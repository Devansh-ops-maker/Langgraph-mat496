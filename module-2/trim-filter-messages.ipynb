{
 "cells": [
  {
   "cell_type": "markdown",
   "id": "fb0ebaf1",
   "metadata": {},
   "source": [
    "[![Open in Colab](https://colab.research.google.com/assets/colab-badge.svg)](https://colab.research.google.com/github/langchain-ai/langchain-academy/blob/main/module-2/trim-filter-messages.ipynb) [![Open in LangChain Academy](https://cdn.prod.website-files.com/65b8cd72835ceeacd4449a53/66e9eba12c7b7688aa3dbb5e_LCA-badge-green.svg)](https://academy.langchain.com/courses/take/intro-to-langgraph/lessons/58239435-lesson-4-trim-and-filter-messages)"
   ]
  },
  {
   "cell_type": "markdown",
   "id": "c52ea2f9-03ff-4647-b782-46867ebed04e",
   "metadata": {},
   "source": [
    "# Filtering and trimming messages\n",
    "\n",
    "## Review\n",
    "\n",
    "Now, we have a deeper understanding of a few things: \n",
    "\n",
    "* How to customize the graph state schema\n",
    "* How to define custom state reducers\n",
    "* How to use multiple graph state schemas\n",
    "\n",
    "## Goals\n",
    "\n",
    "Now, we can start using these concepts with models in LangGraph!\n",
    " \n",
    "In the next few sessions, we'll build towards a chatbot that has long-term memory.\n",
    "\n",
    "Because our chatbot will use messages, let's first talk a bit more about advanced ways to work with messages in graph state."
   ]
  },
  {
   "cell_type": "code",
   "execution_count": null,
   "id": "d5197aba-5d46-421b-ae3b-4e3034edcfda",
   "metadata": {},
   "outputs": [],
   "source": [
    "%%capture --no-stderr\n",
    "%pip install --quiet -U langchain_core langgraph langchain_openai"
   ]
  },
  {
   "cell_type": "code",
   "execution_count": 1,
   "id": "768dc606-d5f2-468d-96ea-910b264e0f8a",
   "metadata": {},
   "outputs": [
    {
     "name": "stdin",
     "output_type": "stream",
     "text": [
      "OPENAI_API_KEY:  ········\n"
     ]
    }
   ],
   "source": [
    "import os, getpass\n",
    "\n",
    "def _set_env(var: str):\n",
    "    if not os.environ.get(var):\n",
    "        os.environ[var] = getpass.getpass(f\"{var}: \")\n",
    "\n",
    "_set_env(\"OPENAI_API_KEY\")"
   ]
  },
  {
   "cell_type": "markdown",
   "id": "8b64d8d3-e4ac-4961-bdc0-688825eb5864",
   "metadata": {},
   "source": [
    "We'll use [LangSmith](https://docs.smith.langchain.com/) for [tracing](https://docs.smith.langchain.com/concepts/tracing).\n",
    "\n",
    "We'll log to a project, `langchain-academy`. "
   ]
  },
  {
   "cell_type": "code",
   "execution_count": 2,
   "id": "dd020c79",
   "metadata": {},
   "outputs": [
    {
     "name": "stdin",
     "output_type": "stream",
     "text": [
      "LANGSMITH_API_KEY:  ········\n"
     ]
    }
   ],
   "source": [
    "_set_env(\"LANGSMITH_API_KEY\")\n",
    "os.environ[\"LANGSMITH_TRACING\"] = \"true\"\n",
    "os.environ[\"LANGSMITH_PROJECT\"] = \"langchain-academy\""
   ]
  },
  {
   "cell_type": "markdown",
   "id": "72f3fc90-58b6-4f7f-897e-dddf6ae532c7",
   "metadata": {},
   "source": [
    "## Messages as state\n",
    "\n",
    "First, let's define some messages."
   ]
  },
  {
   "cell_type": "code",
   "execution_count": 3,
   "id": "cf11a463-e27a-4a05-b41d-64882e38edca",
   "metadata": {},
   "outputs": [
    {
     "name": "stdout",
     "output_type": "stream",
     "text": [
      "==================================\u001b[1m Ai Message \u001b[0m==================================\n",
      "Name: Bot\n",
      "\n",
      "So you said you were researching ocean mammals?\n",
      "================================\u001b[1m Human Message \u001b[0m=================================\n",
      "Name: Lance\n",
      "\n",
      "Yes, I know about whales. But what others should I learn about?\n"
     ]
    }
   ],
   "source": [
    "from pprint import pprint\n",
    "from langchain_core.messages import AIMessage, HumanMessage\n",
    "messages = [AIMessage(f\"So you said you were researching ocean mammals?\", name=\"Bot\")]\n",
    "messages.append(HumanMessage(f\"Yes, I know about whales. But what others should I learn about?\", name=\"Lance\"))\n",
    "\n",
    "for m in messages:\n",
    "    m.pretty_print()"
   ]
  },
  {
   "cell_type": "markdown",
   "id": "b814adcb-6bf9-4b75-be11-e59f933fbd0c",
   "metadata": {},
   "source": [
    "Recall we can pass them to a chat model."
   ]
  },
  {
   "cell_type": "code",
   "execution_count": 4,
   "id": "4712e288-e622-48a2-ad3f-a52f65f3ab08",
   "metadata": {},
   "outputs": [
    {
     "data": {
      "text/plain": [
       "AIMessage(content='In addition to whales, there are several fascinating ocean mammals you can explore:\\n\\n1. **Dolphins:** Highly intelligent and social creatures found in various oceanic environments. There are many species, including the well-known bottlenose dolphin.\\n\\n2. **Porpoises:** Similar to dolphins but generally smaller and with different facial features. Harbor porpoises are the most widely studied.\\n\\n3. **Seals:** Found in both polar and temperate waters, seals are known for their streamlined bodies and whiskered faces. Examples include the harbor seal and elephant seal.\\n\\n4. **Sea Lions:** Also known as eared seals, they are distinguished by their external ear flaps and ability to \"walk\" on land using their flippers. The California sea lion is a common species.\\n\\n5. **Walruses:** Large, tusked pinnipeds mainly found in the Arctic. They are well-adapted for life in cold waters and are known for their blubber and whiskers.\\n\\n6. **Manatees and Dugongs:** Sometimes called sea cows, these gentle herbivores graze on seagrasses in warm coastal waters. Manatees are found in the Americas, while dugongs are primarily in the Indo-Pacific region.\\n\\n7. **Sea Otters:** While not as strictly marine as the others, sea otters are crucial to their coastal ecosystems. They are known for their playful behavior and use of tools.\\n\\n8. **Polar Bears:** While not marine animals in the strictest sense, polar bears are heavily dependent on sea ice to hunt seals and are excellent swimmers.\\n\\nEach of these mammals plays a vital role in their ecosystems and has unique adaptations to marine life.', additional_kwargs={'refusal': None}, response_metadata={'token_usage': {'completion_tokens': 339, 'prompt_tokens': 39, 'total_tokens': 378, 'completion_tokens_details': {'accepted_prediction_tokens': 0, 'audio_tokens': 0, 'reasoning_tokens': 0, 'rejected_prediction_tokens': 0}, 'prompt_tokens_details': {'audio_tokens': 0, 'cached_tokens': 0}}, 'model_name': 'gpt-4o-2024-08-06', 'system_fingerprint': 'fp_65564d8ba5', 'id': 'chatcmpl-CTiczIu6xGNzTzFxXNJS9qIMYz8Oc', 'service_tier': 'default', 'finish_reason': 'stop', 'logprobs': None}, id='run--8a387f64-c1c0-4b65-9fd1-4f372f97f921-0', usage_metadata={'input_tokens': 39, 'output_tokens': 339, 'total_tokens': 378, 'input_token_details': {'audio': 0, 'cache_read': 0}, 'output_token_details': {'audio': 0, 'reasoning': 0}})"
      ]
     },
     "execution_count": 4,
     "metadata": {},
     "output_type": "execute_result"
    }
   ],
   "source": [
    "from langchain_openai import ChatOpenAI\n",
    "llm = ChatOpenAI(model=\"gpt-4o\")\n",
    "llm.invoke(messages)"
   ]
  },
  {
   "cell_type": "markdown",
   "id": "fbd1dab8-0af8-4621-8264-ce65065f76ec",
   "metadata": {},
   "source": [
    "We can run our chat model in a simple graph with `MessagesState`."
   ]
  },
  {
   "cell_type": "code",
   "execution_count": 5,
   "id": "bbd8c39c-633b-4176-9cc6-8318e42bb5dd",
   "metadata": {},
   "outputs": [
    {
     "data": {
      "image/png": "[encoded data removed]",
      "text/plain": [
       "<IPython.core.display.Image object>"
      ]
     },
     "metadata": {},
     "output_type": "display_data"
    }
   ],
   "source": [
    "from IPython.display import Image, display\n",
    "from langgraph.graph import MessagesState\n",
    "from langgraph.graph import StateGraph, START, END\n",
    "\n",
    "# Node\n",
    "def chat_model_node(state: MessagesState):\n",
    "    return {\"messages\": llm.invoke(state[\"messages\"])}\n",
    "\n",
    "# Build graph\n",
    "builder = StateGraph(MessagesState)\n",
    "builder.add_node(\"chat_model\", chat_model_node)\n",
    "builder.add_edge(START, \"chat_model\")\n",
    "builder.add_edge(\"chat_model\", END)\n",
    "graph = builder.compile()\n",
    "\n",
    "# View\n",
    "display(Image(graph.get_graph().draw_mermaid_png()))"
   ]
  },
  {
   "cell_type": "code",
   "execution_count": 6,
   "id": "3a5a3e4a-ccfd-4d14-81f1-f0de6e11a1e4",
   "metadata": {},
   "outputs": [
    {
     "name": "stdout",
     "output_type": "stream",
     "text": [
      "==================================\u001b[1m Ai Message \u001b[0m==================================\n",
      "Name: Bot\n",
      "\n",
      "So you said you were researching ocean mammals?\n",
      "================================\u001b[1m Human Message \u001b[0m=================================\n",
      "Name: Lance\n",
      "\n",
      "Yes, I know about whales. But what others should I learn about?\n",
      "==================================\u001b[1m Ai Message \u001b[0m==================================\n",
      "\n",
      "Aside from whales, there are several intriguing ocean mammals you might find interesting:\n",
      "\n",
      "1. **Dolphins**: Known for their intelligence and playful behavior, dolphins are present in oceans worldwide. There are several species, including the bottlenose dolphin and the orca, or killer whale, which is technically a dolphin.\n",
      "\n",
      "2. **Porpoises**: Similar to dolphins but generally smaller and with different dental anatomy, porpoises are less acrobatic but still fascinating marine mammals.\n",
      "\n",
      "3. **Seals**: There are many species of seals, which are part of the pinniped family. They are semi-aquatic, spending time both in the water and on land or ice. Examples include the harbor seal and the elephant seal.\n",
      "\n",
      "4. **Sea Lions**: Also part of the pinniped family, sea lions are known for their external ear flaps and ability to \"walk\" on land using their large flippers.\n",
      "\n",
      "5. **Walruses**: Recognizable by their large tusks, walruses are mainly found in the Arctic and sub-Arctic regions.\n",
      "\n",
      "6. **Manatees and Dugongs**: Often called \"sea cows,\" these gentle herbivores spend their lives in warm waters, grazing on sea grasses.\n",
      "\n",
      "7. **Sea Otters**: Known for their adorable appearance and use of tools to open shellfish, sea otters play a crucial role in maintaining kelp forest ecosystems.\n",
      "\n",
      "8. **Polar Bears**: While they are primarily land animals, polar bears are also classified as marine mammals because they spend much of their life on sea ice, hunting seals.\n",
      "\n",
      "Each of these mammals plays a unique role in their ecosystem, and their behaviors and adaptations are quite remarkable.\n"
     ]
    }
   ],
   "source": [
    "output = graph.invoke({'messages': messages})\n",
    "for m in output['messages']:\n",
    "    m.pretty_print()"
   ]
  },
  {
   "cell_type": "markdown",
   "id": "34c33e63-1ef4-412d-bb10-6a1b9e5b35a7",
   "metadata": {},
   "source": [
    "## Reducer\n",
    "\n",
    "A practical challenge when working with messages is managing long-running conversations. \n",
    "\n",
    "Long-running conversations result in high token usage and latency if we are not careful, because we pass a growing list of messages to the model.\n",
    "\n",
    "We have a few ways to address this.\n",
    "\n",
    "First, recall the trick we saw using `RemoveMessage` and the `add_messages` reducer."
   ]
  },
  {
   "cell_type": "code",
   "execution_count": 7,
   "id": "222c6bc5-bb0e-4a43-80f5-c8ec38d99f3a",
   "metadata": {},
   "outputs": [
    {
     "data": {
      "image/jpeg": "[encoded data removed]",
      "text/plain": [
       "<IPython.core.display.Image object>"
      ]
     },
     "metadata": {},
     "output_type": "display_data"
    }
   ],
   "source": [
    "from langchain_core.messages import RemoveMessage\n",
    "\n",
    "# Nodes\n",
    "def filter_messages(state: MessagesState):\n",
    "    # Delete all but the 2 most recent messages\n",
    "    delete_messages = [RemoveMessage(id=m.id) for m in state[\"messages\"][:-2]]\n",
    "    return {\"messages\": delete_messages}\n",
    "\n",
    "def chat_model_node(state: MessagesState):    \n",
    "    return {\"messages\": [llm.invoke(state[\"messages\"])]}\n",
    "\n",
    "# Build graph\n",
    "builder = StateGraph(MessagesState)\n",
    "builder.add_node(\"filter\", filter_messages)\n",
    "builder.add_node(\"chat_model\", chat_model_node)\n",
    "builder.add_edge(START, \"filter\")\n",
    "builder.add_edge(\"filter\", \"chat_model\")\n",
    "builder.add_edge(\"chat_model\", END)\n",
    "graph = builder.compile()\n",
    "\n",
    "# View\n",
    "display(Image(graph.get_graph().draw_mermaid_png()))"
   ]
  },
  {
   "cell_type": "code",
   "execution_count": 9,
   "id": "95a7c2cc-54ce-43e7-9a90-abf37827d709",
   "metadata": {},
   "outputs": [
    {
     "name": "stdout",
     "output_type": "stream",
     "text": [
      "==================================\u001b[1m Ai Message \u001b[0m==================================\n",
      "Name: Bot\n",
      "\n",
      "So you said you were researching ocean mammals?\n",
      "================================\u001b[1m Human Message \u001b[0m=================================\n",
      "Name: Lance\n",
      "\n",
      "Yes, I know about whales. But what others should I learn about?\n",
      "==================================\u001b[1m Ai Message \u001b[0m==================================\n",
      "\n",
      "That's great that you know about whales! There are a variety of other fascinating ocean mammals you might be interested in learning about. Here are a few:\n",
      "\n",
      "1. **Dolphins**: These highly intelligent and social animals are part of the cetacean family, which also includes whales and porpoises. There are many species of dolphins, including the common bottlenose dolphin and the orca, or killer whale, which is actually the largest member of the dolphin family.\n",
      "\n",
      "2. **Porpoises**: Similar to dolphins but generally smaller and with different facial structures and teeth. The harbor porpoise is one of the more well-known species.\n",
      "\n",
      "3. **Seals and Sea Lions**: These pinnipeds are known for their playful nature and agility in water. Seals typically have smaller flippers and no visible ear flaps, while sea lions have larger flippers and visible ear flaps.\n",
      "\n",
      "4. **Walruses**: Recognizable by their large tusks, whiskers, and significant bulk, walruses are pinnipeds as well and are usually found in Arctic regions.\n",
      "\n",
      "5. **Manatees and Dugongs**: These gentle giants, often called sea cows, are slow-moving and primarily herbivorous. Manatees are found in the Caribbean and the Gulf of Mexico, while dugongs inhabit the coastal waters of the Indian and western Pacific Oceans.\n",
      "\n",
      "6. **Sea Otters**: Known for their use of tools to open shells and their thick fur, sea otters are a keystone species in their ecosystems, particularly in kelp forest habitats along the Pacific coast of North America.\n",
      "\n",
      "7. **Polar Bears**: While not exclusively marine, polar bears depend heavily on the ocean for hunting seals and are excellent swimmers.\n",
      "\n",
      "Each of these groups has unique adaptations and behaviors that make them fascinating subjects of study. Happy researching!\n"
     ]
    }
   ],
   "source": [
    "# Message list with a preamble\n",
    "messages = [AIMessage(\"Hi.\", name=\"Bot\", id=\"1\")]\n",
    "messages.append(HumanMessage(\"Hi.\", name=\"Lance\", id=\"2\"))\n",
    "messages.append(AIMessage(\"So you said you were researching ocean mammals?\", name=\"Bot\", id=\"3\"))\n",
    "messages.append(HumanMessage(\"Yes, I know about whales. But what others should I learn about?\", name=\"Lance\", id=\"4\"))\n",
    "\n",
    "# Invoke\n",
    "output = graph.invoke({'messages': messages})\n",
    "for m in output['messages']:\n",
    "    m.pretty_print()"
   ]
  },
  {
   "cell_type": "markdown",
   "id": "f506457d-014b-4fee-a684-e5edfb4b8f0d",
   "metadata": {},
   "source": [
    "## Filtering messages\n",
    "\n",
    "If you don't need or want to modify the graph state, you can just filter the messages you pass to the chat model.\n",
    "\n",
    "For example, just pass in a filtered list: `llm.invoke(messages[-1:])` to the model."
   ]
  },
  {
   "cell_type": "code",
   "execution_count": 11,
   "id": "22d0b904-7cd6-486b-8948-105bee3d4683",
   "metadata": {},
   "outputs": [
    {
     "data": {
      "image/jpeg": "[encoded data removed]",
      "text/plain": [
       "<IPython.core.display.Image object>"
      ]
     },
     "metadata": {},
     "output_type": "display_data"
    }
   ],
   "source": [
    "# Node\n",
    "def chat_model_node(state: MessagesState):\n",
    "    return {\"messages\": [llm.invoke(state[\"messages\"][-1:])]}\n",
    "\n",
    "# Build graph\n",
    "builder = StateGraph(MessagesState)\n",
    "builder.add_node(\"chat_model\", chat_model_node)\n",
    "builder.add_edge(START, \"chat_model\")\n",
    "builder.add_edge(\"chat_model\", END)\n",
    "graph = builder.compile()\n",
    "\n",
    "# View\n",
    "display(Image(graph.get_graph().draw_mermaid_png()))"
   ]
  },
  {
   "cell_type": "markdown",
   "id": "6f58c6fc-532f-418d-b70a-cfcb3307daf5",
   "metadata": {},
   "source": [
    "Let's take our existing list of messages, append the above LLM response, and append a follow-up question."
   ]
  },
  {
   "cell_type": "code",
   "execution_count": 12,
   "id": "16956015-1dbe-4108-89b5-4209b68b51ca",
   "metadata": {},
   "outputs": [],
   "source": [
    "messages.append(output['messages'][-1])\n",
    "messages.append(HumanMessage(f\"Tell me more about Narwhals!\", name=\"Lance\"))"
   ]
  },
  {
   "cell_type": "code",
   "execution_count": 13,
   "id": "85563415-c085-46a8-a4ac-155df798c54e",
   "metadata": {},
   "outputs": [
    {
     "name": "stdout",
     "output_type": "stream",
     "text": [
      "==================================\u001b[1m Ai Message \u001b[0m==================================\n",
      "Name: Bot\n",
      "\n",
      "Hi.\n",
      "================================\u001b[1m Human Message \u001b[0m=================================\n",
      "Name: Lance\n",
      "\n",
      "Hi.\n",
      "==================================\u001b[1m Ai Message \u001b[0m==================================\n",
      "Name: Bot\n",
      "\n",
      "So you said you were researching ocean mammals?\n",
      "================================\u001b[1m Human Message \u001b[0m=================================\n",
      "Name: Lance\n",
      "\n",
      "Yes, I know about whales. But what others should I learn about?\n",
      "==================================\u001b[1m Ai Message \u001b[0m==================================\n",
      "\n",
      "That's great that you know about whales! There are many other fascinating ocean mammals you can learn about. Here are a few:\n",
      "\n",
      "1. **Dolphins**: Highly intelligent and social animals, dolphins are known for their playful behavior and sophisticated communication skills. There are many species of dolphins, including the well-known bottlenose dolphin.\n",
      "\n",
      "2. **Porpoises**: Often confused with dolphins, porpoises are smaller and have different body shapes and teeth. They are generally more reclusive and less acrobatic than dolphins.\n",
      "\n",
      "3. **Seals**: Seals are part of the pinniped family, which also includes sea lions and walruses. They have streamlined bodies and flippers, making them excellent swimmers. Common types of seals include harbor seals and elephant seals.\n",
      "\n",
      "4. **Sea Lions**: Similar to seals but with some key differences, sea lions have external ear flaps and can rotate their hind flippers to walk on land. They are also very social and often gather in large groups.\n",
      "\n",
      "5. **Walruses**: Recognizable by their long tusks and whiskers, walruses are large marine mammals that are found in Arctic regions. They use their tusks to help them climb out of the water and to break through ice.\n",
      "\n",
      "6. **Manatees and Dugongs**: These gentle giants are often referred to as sea cows. Manatees are found in the Atlantic Ocean, while dugongs are found in the Indian and Pacific Oceans. They are herbivores and spend most of their time grazing on underwater vegetation.\n",
      "\n",
      "7. **Sea Otters**: Known for their playful behavior and use of tools, sea otters are an important part of the marine ecosystem. They have thick fur to keep them warm in cold waters and are often seen floating on their backs.\n",
      "\n",
      "8. **Polar Bears**: While not exclusively marine, polar bears spend a significant amount of time in the ocean, particularly in Arctic regions. They are excellent swimmers and rely on sea ice to hunt seals, their primary food source.\n",
      "\n",
      "9. **Narwhals**: Often called the \"unicorns of the sea,\" narwhals have a long, spiral tusk that is actually an elongated tooth. They are found in Arctic waters and are known for their deep diving abilities.\n",
      "\n",
      "10. **Orcas (Killer Whales)**: Though they are technically a type of dolphin, orcas are often considered separately due to their size and distinctive black-and-white coloring. They are apex predators and have complex social structures.\n",
      "\n",
      "Each of these ocean mammals has unique behaviors, adaptations, and ecological roles, making them fascinating subjects for study.\n",
      "================================\u001b[1m Human Message \u001b[0m=================================\n",
      "Name: Lance\n",
      "\n",
      "Tell me more about Narwhals!\n"
     ]
    }
   ],
   "source": [
    "for m in messages:\n",
    "    m.pretty_print()"
   ]
  },
  {
   "cell_type": "code",
   "execution_count": 14,
   "id": "23349705-a059-47b5-9760-d8f64e687393",
   "metadata": {},
   "outputs": [
    {
     "name": "stdout",
     "output_type": "stream",
     "text": [
      "==================================\u001b[1m Ai Message \u001b[0m==================================\n",
      "Name: Bot\n",
      "\n",
      "Hi.\n",
      "================================\u001b[1m Human Message \u001b[0m=================================\n",
      "Name: Lance\n",
      "\n",
      "Hi.\n",
      "==================================\u001b[1m Ai Message \u001b[0m==================================\n",
      "Name: Bot\n",
      "\n",
      "So you said you were researching ocean mammals?\n",
      "================================\u001b[1m Human Message \u001b[0m=================================\n",
      "Name: Lance\n",
      "\n",
      "Yes, I know about whales. But what others should I learn about?\n",
      "==================================\u001b[1m Ai Message \u001b[0m==================================\n",
      "\n",
      "That's great that you know about whales! There are many other fascinating ocean mammals you can learn about. Here are a few:\n",
      "\n",
      "1. **Dolphins**: Highly intelligent and social animals, dolphins are known for their playful behavior and sophisticated communication skills. There are many species of dolphins, including the well-known bottlenose dolphin.\n",
      "\n",
      "2. **Porpoises**: Often confused with dolphins, porpoises are smaller and have different body shapes and teeth. They are generally more reclusive and less acrobatic than dolphins.\n",
      "\n",
      "3. **Seals**: Seals are part of the pinniped family, which also includes sea lions and walruses. They have streamlined bodies and flippers, making them excellent swimmers. Common types of seals include harbor seals and elephant seals.\n",
      "\n",
      "4. **Sea Lions**: Similar to seals but with some key differences, sea lions have external ear flaps and can rotate their hind flippers to walk on land. They are also very social and often gather in large groups.\n",
      "\n",
      "5. **Walruses**: Recognizable by their long tusks and whiskers, walruses are large marine mammals that are found in Arctic regions. They use their tusks to help them climb out of the water and to break through ice.\n",
      "\n",
      "6. **Manatees and Dugongs**: These gentle giants are often referred to as sea cows. Manatees are found in the Atlantic Ocean, while dugongs are found in the Indian and Pacific Oceans. They are herbivores and spend most of their time grazing on underwater vegetation.\n",
      "\n",
      "7. **Sea Otters**: Known for their playful behavior and use of tools, sea otters are an important part of the marine ecosystem. They have thick fur to keep them warm in cold waters and are often seen floating on their backs.\n",
      "\n",
      "8. **Polar Bears**: While not exclusively marine, polar bears spend a significant amount of time in the ocean, particularly in Arctic regions. They are excellent swimmers and rely on sea ice to hunt seals, their primary food source.\n",
      "\n",
      "9. **Narwhals**: Often called the \"unicorns of the sea,\" narwhals have a long, spiral tusk that is actually an elongated tooth. They are found in Arctic waters and are known for their deep diving abilities.\n",
      "\n",
      "10. **Orcas (Killer Whales)**: Though they are technically a type of dolphin, orcas are often considered separately due to their size and distinctive black-and-white coloring. They are apex predators and have complex social structures.\n",
      "\n",
      "Each of these ocean mammals has unique behaviors, adaptations, and ecological roles, making them fascinating subjects for study.\n",
      "================================\u001b[1m Human Message \u001b[0m=================================\n",
      "Name: Lance\n",
      "\n",
      "Tell me more about Narwhals!\n",
      "==================================\u001b[1m Ai Message \u001b[0m==================================\n",
      "\n",
      "Of course! Narwhals (Monodon monoceros) are fascinating marine mammals that belong to the family Monodontidae, which also includes the beluga whale. They are best known for the long, spiral tusk that protrudes from the head of the males, which has earned them the nickname \"unicorns of the sea.\"\n",
      "\n",
      "Here are some key facts about narwhals:\n",
      "\n",
      "### Physical Characteristics\n",
      "- **Tusk**: The most distinctive feature of the narwhal is the tusk, which is actually an elongated tooth. It can grow up to 10 feet (3 meters) long and is usually found in males, though some females may also develop smaller tusks. The tusk grows in a spiral pattern and is thought to have sensory capabilities, with millions of nerve endings.\n",
      "- **Body**: Narwhals have a stocky body with a mottled black and white skin pattern. They lack a dorsal fin, which is thought to be an adaptation to swimming under ice.\n",
      "- **Size**: Adult narwhals typically range from 13 to 20 feet (4 to 6 meters) in length, with males generally being larger than females.\n",
      "- **Weight**: They can weigh between 1,760 to 3,530 pounds (800 to 1,600 kilograms).\n",
      "\n",
      "### Habitat and Distribution\n",
      "- Narwhals are native to the Arctic waters of Canada, Greenland, Norway, and Russia. They are especially common in the Baffin Bay and the waters surrounding Greenland.\n",
      "- They prefer deep waters and are often found in areas with heavy sea ice.\n",
      "\n",
      "### Behavior and Diet\n",
      "- **Diving**: Narwhals are deep divers and can reach depths of up to 5,000 feet (1,500 meters) in search of food. They can hold their breath for up to 25 minutes.\n",
      "- **Diet**: Their diet primarily consists of fish such as Arctic cod and Greenland halibut, as well as squid and shrimp.\n",
      "- **Social Structure**: Narwhals are social animals and are often found in groups called pods, which typically consist of 5 to 10 individuals but can sometimes number in the hundreds.\n",
      "\n",
      "### Reproduction and Lifespan\n",
      "- Females give birth to a single calf after a gestation period of about 14 to 15 months. Calves are usually born in the spring or early summer.\n",
      "- Narwhals have a long lifespan and can live up to 50 years, although some individuals may live even longer.\n",
      "\n",
      "### Conservation Status\n",
      "- Narwhals are currently classified as \"Near Threatened\" by the International Union for Conservation of Nature (IUCN). Their main threats include climate change, which affects their sea ice habitat, and human activities such as shipping and oil exploration.\n",
      "- Indigenous communities in the Arctic have traditionally hunted narwhals for their meat, blubber, and tusks, which are used for various purposes, including art and tools.\n",
      "\n",
      "### Cultural Significance\n",
      "- The narwhal's tusk has fascinated humans for centuries and was often sold as a \"unicorn horn\" in medieval Europe, believed to possess magical properties.\n",
      "- Narwhals hold significant cultural and economic value for indigenous Arctic communities.\n",
      "\n",
      "Overall, narwhals are remarkable creatures with unique adaptations that allow them to thrive in some of the planet's harshest environments.\n"
     ]
    }
   ],
   "source": [
    "# Invoke, using message filtering\n",
    "output = graph.invoke({'messages': messages})\n",
    "for m in output['messages']:\n",
    "    m.pretty_print()"
   ]
  },
  {
   "cell_type": "markdown",
   "id": "42e1d8d2-e297-4d78-b54c-d12b3c866745",
   "metadata": {},
   "source": [
    "The state has all of the mesages.\n",
    "\n",
    "But, let's look at the LangSmith trace to see that the model invocation only uses the last message:\n",
    "\n",
    "https://smith.langchain.com/public/75aca3ce-ef19-4b92-94be-0178c7a660d9/r"
   ]
  },
  {
   "cell_type": "markdown",
   "id": "fc40d930-3c1f-47fe-8d2a-ce174873353c",
   "metadata": {},
   "source": [
    "## Trim messages\n",
    "\n",
    "Another approach is to [trim messages](https://python.langchain.com/v0.2/docs/how_to/trim_messages/#getting-the-last-max_tokens-tokens), based upon a set number of tokens. \n",
    "\n",
    "This restricts the message history to a specified number of tokens.\n",
    "\n",
    "While filtering only returns a post-hoc subset of the messages between agents, trimming restricts the number of tokens that a chat model can use to respond.\n",
    "\n",
    "See the `trim_messages` below."
   ]
  },
  {
   "cell_type": "code",
   "execution_count": 15,
   "id": "2ff99b81-cf03-4cc2-b44f-44829a73e1fd",
   "metadata": {},
   "outputs": [
    {
     "data": {
      "image/jpeg": "[encoded data removed]",
      "text/plain": [
       "<IPython.core.display.Image object>"
      ]
     },
     "metadata": {},
     "output_type": "display_data"
    }
   ],
   "source": [
    "from langchain_core.messages import trim_messages\n",
    "\n",
    "# Node\n",
    "def chat_model_node(state: MessagesState):\n",
    "    messages = trim_messages(\n",
    "            state[\"messages\"],\n",
    "            max_tokens=100,\n",
    "            strategy=\"last\",\n",
    "            token_counter=ChatOpenAI(model=\"gpt-4o\"),\n",
    "            allow_partial=False,\n",
    "        )\n",
    "    return {\"messages\": [llm.invoke(messages)]}\n",
    "\n",
    "# Build graph\n",
    "builder = StateGraph(MessagesState)\n",
    "builder.add_node(\"chat_model\", chat_model_node)\n",
    "builder.add_edge(START, \"chat_model\")\n",
    "builder.add_edge(\"chat_model\", END)\n",
    "graph = builder.compile()\n",
    "\n",
    "# View\n",
    "display(Image(graph.get_graph().draw_mermaid_png()))"
   ]
  },
  {
   "cell_type": "code",
   "execution_count": 16,
   "id": "24df63ac-da29-4874-b3df-7e390e97cc8a",
   "metadata": {},
   "outputs": [],
   "source": [
    "messages.append(output['messages'][-1])\n",
    "messages.append(HumanMessage(f\"Tell me where Orcas live!\", name=\"Lance\"))"
   ]
  },
  {
   "cell_type": "code",
   "execution_count": 17,
   "id": "6d9d8971-c75c-43ca-a209-eb1d07b2ead0",
   "metadata": {},
   "outputs": [
    {
     "data": {
      "text/plain": [
       "[HumanMessage(content='Tell me where Orcas live!', name='Lance')]"
      ]
     },
     "execution_count": 17,
     "metadata": {},
     "output_type": "execute_result"
    }
   ],
   "source": [
    "# Example of trimming messages\n",
    "trim_messages(\n",
    "            messages,\n",
    "            max_tokens=100,\n",
    "            strategy=\"last\",\n",
    "            token_counter=ChatOpenAI(model=\"gpt-4o\"),\n",
    "            allow_partial=False\n",
    "        )"
   ]
  },
  {
   "cell_type": "code",
   "execution_count": 18,
   "id": "ed70a269-a869-4fa0-a1df-29736a432c51",
   "metadata": {},
   "outputs": [],
   "source": [
    "# Invoke, using message trimming in the chat_model_node \n",
    "messages_out_trim = graph.invoke({'messages': messages})"
   ]
  },
  {
   "cell_type": "markdown",
   "id": "38b3db67-380e-46b5-9a6a-20100ba52008",
   "metadata": {},
   "source": [
    "Let's look at the LangSmith trace to see the model invocation:\n",
    "\n",
    "https://smith.langchain.com/public/b153f7e9-f1a5-4d60-8074-f0d7ab5b42ef/r"
   ]
  },
  {
   "cell_type": "code",
   "execution_count": 7,
   "id": "21b566ac-1fd9-40e7-9867-42c434e94d74",
   "metadata": {},
   "outputs": [],
   "source": [
    "# Extension of Messages as a State"
   ]
  },
  {
   "cell_type": "code",
   "execution_count": 8,
   "id": "ee4f5338-2b76-4a06-aee6-08e50060ec3c",
   "metadata": {},
   "outputs": [
    {
     "name": "stdout",
     "output_type": "stream",
     "text": [
      "==================================\u001b[1m Ai Message \u001b[0m==================================\n",
      "Name: Bot\n",
      "\n",
      "Hey! Are you preparing for the Joint Entrance Exam (JEE)?\n",
      "================================\u001b[1m Human Message \u001b[0m=================================\n",
      "Name: Devansh\n",
      "\n",
      "Yes, I just started preparing for it.\n",
      "==================================\u001b[1m Ai Message \u001b[0m==================================\n",
      "Name: Bot\n",
      "\n",
      "That's great! Which subjects are you focusing on right now?\n",
      "================================\u001b[1m Human Message \u001b[0m=================================\n",
      "Name: Devansh\n",
      "\n",
      "Mostly Physics and Maths. Chemistry feels a bit tough for me.\n",
      "==================================\u001b[1m Ai Message \u001b[0m==================================\n",
      "Name: Bot\n",
      "\n",
      "No worries! With consistent practice, Chemistry will get easier. Do you want some tips for JEE preparation?\n",
      "================================\u001b[1m Human Message \u001b[0m=================================\n",
      "Name: Devansh\n",
      "\n",
      "Yes, please! What’s the best way to plan my daily study schedule for JEE?\n"
     ]
    }
   ],
   "source": [
    "from pprint import pprint\n",
    "from langchain_core.messages import AIMessage, HumanMessage\n",
    "\n",
    "messages = [\n",
    "    AIMessage(\"Hey! Are you preparing for the Joint Entrance Exam (JEE)?\", name=\"Bot\"),\n",
    "    HumanMessage(\"Yes, I just started preparing for it.\", name=\"Devansh\"),\n",
    "    AIMessage(\"That's great! Which subjects are you focusing on right now?\", name=\"Bot\"),\n",
    "    HumanMessage(\"Mostly Physics and Maths. Chemistry feels a bit tough for me.\", name=\"Devansh\"),\n",
    "    AIMessage(\"No worries! With consistent practice, Chemistry will get easier. Do you want some tips for JEE preparation?\", name=\"Bot\"),\n",
    "    HumanMessage(\"Yes, please! What’s the best way to plan my daily study schedule for JEE?\", name=\"Devansh\"),\n",
    "]\n",
    "\n",
    "for m in messages:\n",
    "    m.pretty_print()\n"
   ]
  },
  {
   "cell_type": "code",
   "execution_count": 9,
   "id": "c7685c37-ac9a-498a-ab66-23596df4bc10",
   "metadata": {},
   "outputs": [
    {
     "data": {
      "text/plain": [
       "AIMessage(content=\"Creating an effective study schedule for JEE preparation involves balancing time across subjects while considering your personal strengths and areas for improvement. Here are some tips:\\n\\n1. **Analyze Strengths and Weaknesses**: Spend more time on weaker subjects (like Chemistry for you) but don’t neglect your stronger subjects (like Physics and Maths).\\n\\n2. **Set Clear Goals**: Divide your plan into daily, weekly, and monthly goals. This helps in tracking progress and staying motivated.\\n\\n3. **Allocate Time Slots**:\\n   - Keep a healthy rotation of subjects to maintain variety and prevent burnout.\\n   - Typically, dedicate about 2-3 hours per subject daily, but adjust based on comfort.\\n\\n4. **Focus on Concepts**: Ensure you spend time understanding concepts before heading into practice problems, especially in Chemistry.\\n\\n5. **Daily Revision**: Spend at least an hour revisiting what you've learned to reinforce memory.\\n\\n6. **Regular Practice**:\\n   - Solve previous years' papers and sample questions for all subjects. \\n   - Time yourself to build exam temperament and improve speed.\\n\\n7. **Mock Tests**: Regularly take full-length mock tests to simulate exam conditions. Analyze your performance to identify and address weak areas.\\n\\n8. **Short Breaks**: Take breaks (5-10 mins) every hour to keep your mind fresh and prevent fatigue.\\n\\n9. **Healthy Lifestyle**: Ensure good nutrition, adequate sleep, and some physical activity to maintain overall wellness.\\n\\n10. **Stay Updated**: Keep track of exam notifications and any changes in pattern or syllabus.\\n\\nRemember, consistency is key, so stick to your schedule and adjust it as needed based on your progress. Good luck with your preparation!\", additional_kwargs={'refusal': None}, response_metadata={'token_usage': {'completion_tokens': 344, 'prompt_tokens': 134, 'total_tokens': 478, 'completion_tokens_details': {'accepted_prediction_tokens': 0, 'audio_tokens': 0, 'reasoning_tokens': 0, 'rejected_prediction_tokens': 0}, 'prompt_tokens_details': {'audio_tokens': 0, 'cached_tokens': 0}}, 'model_name': 'gpt-4o-2024-08-06', 'system_fingerprint': 'fp_65564d8ba5', 'id': 'chatcmpl-CTigfYzFohFzbhrOudBDMbLxOwanq', 'service_tier': 'default', 'finish_reason': 'stop', 'logprobs': None}, id='run--aa797e16-d167-4bfe-a2fd-83cf24ad75dc-0', usage_metadata={'input_tokens': 134, 'output_tokens': 344, 'total_tokens': 478, 'input_token_details': {'audio': 0, 'cache_read': 0}, 'output_token_details': {'audio': 0, 'reasoning': 0}})"
      ]
     },
     "execution_count": 9,
     "metadata": {},
     "output_type": "execute_result"
    }
   ],
   "source": [
    "from langchain_openai import ChatOpenAI\n",
    "llm = ChatOpenAI(model=\"gpt-4o\")\n",
    "llm.invoke(messages)"
   ]
  },
  {
   "cell_type": "code",
   "execution_count": 10,
   "id": "8ed770e9-182b-4871-a870-103763511bc4",
   "metadata": {},
   "outputs": [
    {
     "data": {
      "image/png": "[encoded data removed]",
      "text/plain": [
       "<IPython.core.display.Image object>"
      ]
     },
     "metadata": {},
     "output_type": "display_data"
    },
    {
     "name": "stdout",
     "output_type": "stream",
     "text": [
      "human: Hi, I'm preparing for the Joint Entrance Exam (JEE). Any advice?\n",
      "ai: Preparing for the Joint Entrance Exam (JEE) requires a strategic approach, as it is one of the most competitive engineering entrance exams in India. Here are some tips that might help you in your preparation:\n",
      "\n",
      "1. **Understand the Syllabus**: Familiarize yourself with the complete JEE syllabus for both JEE Main and JEE Advanced. Concentrate on the topics that are frequently tested.\n",
      "\n",
      "2. **Create a Study Plan**: Develop a realistic and structured study schedule. Allocate time daily for each subject (Physics, Chemistry, and Mathematics) and stick to your schedule as closely as possible.\n",
      "\n",
      "3. **Study Material**: Choose the right books and study material. Some recommended books include:\n",
      "   - **Physics**: H.C. Verma (Concepts of Physics), Resnick and Halliday, D.C. Pandey (Arihant series).\n",
      "   - **Chemistry**: O.P. Tandon (Physical, Inorganic, and Organic Chemistry), N.C.E.R.T. textbooks, and Morrison & Boyd (for Organic Chemistry).\n",
      "   - **Mathematics**: R.D. Sharma, C.B. Gupta, and Objective Mathematics by R.D. Sharma or Arihant Publications.\n",
      "\n",
      "4. **Conceptual Understanding**: Focus on understanding concepts rather than rote learning. Try to visualize and relate concepts to real-world applications.\n",
      "\n",
      "5. **Practice Regularly**: Regular practice is key. Solve previous years' JEE papers and take mock tests to familiarize yourself with the exam format and improve your time management.\n",
      "\n",
      "6. **Revise**: Regular revision is crucial. Set aside time each week to review what you have learned to reinforce your understanding.\n",
      "\n",
      "7. **Focus on Problem-Solving**: Work on developing problem-solving skills. Break down complex problems into simpler steps.\n",
      "\n",
      "8. **Time Management**: Learn to manage your time effectively during preparation and in the exam. Take timed quizzes and practice tests to improve your speed.\n",
      "\n",
      "9. **Stay Healthy**: Don’t neglect your health. Ensure you get enough rest, eat well, and take breaks when needed. Physical and mental well-being is crucial for effective learning.\n",
      "\n",
      "10. **Stay Positive and Motivated**: Surround yourself with supportive peers and maintain a positive mindset. Celebrate small achievements and remind yourself of your goals.\n",
      "\n",
      "11. **Seek Help if Needed**: If you’re struggling with any concepts, don’t hesitate to ask teachers or peers for help. Consider joining coaching classes if you think structured guidance would benefit you.\n",
      "\n",
      "12. **Exam Strategy**: On the exam day, read the questions carefully, manage your time wisely, and don’t get stuck on difficult questions. If needed, move on and return to them later.\n",
      "\n",
      "Remember, consistent effort over time is key to success in JEE. Good luck with your preparation!\n"
     ]
    }
   ],
   "source": [
    "from langchain_core.messages import AIMessage, HumanMessage\n",
    "from langchain_openai import ChatOpenAI\n",
    "from langgraph.graph import MessagesState, StateGraph, START, END\n",
    "from IPython.display import Image, display\n",
    "\n",
    "llm = ChatOpenAI(model=\"gpt-4o-mini\")\n",
    "\n",
    "def chat_model_node(state: MessagesState):\n",
    "    response = llm.invoke(state[\"messages\"])\n",
    "    return {\"messages\": state[\"messages\"] + [response]}\n",
    "\n",
    "builder = StateGraph(MessagesState)\n",
    "builder.add_node(\"chat_model\", chat_model_node)\n",
    "builder.add_edge(START, \"chat_model\")\n",
    "builder.add_edge(\"chat_model\", END)\n",
    "graph = builder.compile()\n",
    "\n",
    "display(Image(graph.get_graph().draw_mermaid_png()))\n",
    "\n",
    "messages = [\n",
    "    HumanMessage(\"Hi, I'm preparing for the Joint Entrance Exam (JEE). Any advice?\"),\n",
    "]\n",
    "\n",
    "result = graph.invoke({\"messages\": messages})\n",
    "\n",
    "for msg in result[\"messages\"]:\n",
    "    print(f\"{msg.name or msg.type}: {msg.content}\")"
   ]
  },
  {
   "cell_type": "code",
   "execution_count": 11,
   "id": "33366004-c4e4-4db4-ba2e-85010e1d8884",
   "metadata": {},
   "outputs": [],
   "source": [
    "# Reducing Messages"
   ]
  },
  {
   "cell_type": "code",
   "execution_count": 12,
   "id": "15c891ae-bc4f-4760-9f4f-42329aee1ac7",
   "metadata": {},
   "outputs": [
    {
     "data": {
      "image/png": "[encoded data removed]",
      "text/plain": [
       "<IPython.core.display.Image object>"
      ]
     },
     "metadata": {},
     "output_type": "display_data"
    },
    {
     "name": "stdout",
     "output_type": "stream",
     "text": [
      "ai: Nice! Which subjects are you focusing on the most right now?\n",
      "human: Physics and Maths. I find Chemistry a bit hard.\n",
      "ai: It's great that you're focusing on physics and math! Both subjects can be incredibly rewarding and are often interrelated. If you find chemistry challenging, it might help to approach it slowly and connect it with concepts from physics and math that you're comfortable with. For example, understanding the principles of energy and motion can sometimes clarify certain chemical reactions. If you have specific topics or problems in mind you'd like to discuss or need help with, feel free to ask!\n"
     ]
    }
   ],
   "source": [
    "from langchain_core.messages import AIMessage, HumanMessage, RemoveMessage\n",
    "from langchain_openai import ChatOpenAI\n",
    "from langgraph.graph import MessagesState, StateGraph, START, END\n",
    "from IPython.display import Image, display\n",
    "\n",
    "llm = ChatOpenAI(model=\"gpt-4o-mini\")\n",
    "\n",
    "def filter_messages(state: MessagesState):\n",
    "    delete_messages = [RemoveMessage(id=m.id) for m in state[\"messages\"][:-2]]\n",
    "    return {\"messages\": delete_messages}\n",
    "\n",
    "def chat_model_node(state: MessagesState):\n",
    "    response = llm.invoke(state[\"messages\"])\n",
    "    return {\"messages\": [response]}\n",
    "\n",
    "builder = StateGraph(MessagesState)\n",
    "builder.add_node(\"filter\", filter_messages)\n",
    "builder.add_node(\"chat_model\", chat_model_node)\n",
    "builder.add_edge(START, \"filter\")\n",
    "builder.add_edge(\"filter\", \"chat_model\")\n",
    "builder.add_edge(\"chat_model\", END)\n",
    "graph = builder.compile()\n",
    "\n",
    "display(Image(graph.get_graph().draw_mermaid_png()))\n",
    "\n",
    "messages = [\n",
    "    AIMessage(\"Hey there! Are you preparing for the Joint Entrance Exam (JEE)?\"),\n",
    "    HumanMessage(\"Yes, I just started my preparation.\"),\n",
    "    AIMessage(\"Nice! Which subjects are you focusing on the most right now?\"),\n",
    "    HumanMessage(\"Physics and Maths. I find Chemistry a bit hard.\"),\n",
    "]\n",
    "\n",
    "result = graph.invoke({\"messages\": messages})\n",
    "\n",
    "for msg in result[\"messages\"]:\n",
    "    print(f\"{msg.type}: {msg.content}\")\n"
   ]
  },
  {
   "cell_type": "code",
   "execution_count": 13,
   "id": "0bf2c159-e739-42f5-a18e-4696403c14ea",
   "metadata": {},
   "outputs": [],
   "source": [
    "# Filtering the messages sent to llm while invoking it"
   ]
  },
  {
   "cell_type": "code",
   "execution_count": 14,
   "id": "173c3b26-9c1b-40e3-a10b-c568776ff295",
   "metadata": {},
   "outputs": [
    {
     "data": {
      "image/png": "[encoded data removed]",
      "text/plain": [
       "<IPython.core.display.Image object>"
      ]
     },
     "metadata": {},
     "output_type": "display_data"
    },
    {
     "name": "stdout",
     "output_type": "stream",
     "text": [
      "ai: Hey! Are you preparing for the Joint Entrance Exam (JEE)?\n",
      "human: Yes, I just started preparing for it.\n",
      "ai: That’s great! Which subjects are you focusing on the most?\n",
      "human: Mostly Physics and Maths. Chemistry feels a bit hard.\n",
      "ai: It's common to find chemistry challenging, especially when you're more comfortable with physics and math. Chemistry often requires a good grasp of concepts and the ability to visualize processes at the molecular level. If you have specific topics in chemistry that you're struggling with, feel free to share them! I can help explain those concepts or provide some resources that might make it easier to understand.\n"
     ]
    }
   ],
   "source": [
    "from langchain_core.messages import AIMessage, HumanMessage\n",
    "from langchain_openai import ChatOpenAI\n",
    "from langgraph.graph import MessagesState, StateGraph, START, END\n",
    "from IPython.display import Image, display\n",
    "\n",
    "llm = ChatOpenAI(model=\"gpt-4o-mini\")\n",
    "\n",
    "def chat_model_node(state: MessagesState):\n",
    "    filtered_messages = state[\"messages\"][-2:]\n",
    "    response = llm.invoke(filtered_messages)\n",
    "    return {\"messages\": [response]}\n",
    "\n",
    "builder = StateGraph(MessagesState)\n",
    "builder.add_node(\"chat_model\", chat_model_node)\n",
    "builder.add_edge(START, \"chat_model\")\n",
    "builder.add_edge(\"chat_model\", END)\n",
    "graph = builder.compile()\n",
    "\n",
    "display(Image(graph.get_graph().draw_mermaid_png()))\n",
    "\n",
    "messages = [\n",
    "    AIMessage(\"Hey! Are you preparing for the Joint Entrance Exam (JEE)?\"),\n",
    "    HumanMessage(\"Yes, I just started preparing for it.\"),\n",
    "    AIMessage(\"That’s great! Which subjects are you focusing on the most?\"),\n",
    "    HumanMessage(\"Mostly Physics and Maths. Chemistry feels a bit hard.\"),\n",
    "]\n",
    "\n",
    "result = graph.invoke({\"messages\": messages})\n",
    "\n",
    "for msg in result[\"messages\"]:\n",
    "    print(f\"{msg.type}: {msg.content}\")\n"
   ]
  },
  {
   "cell_type": "code",
   "execution_count": 15,
   "id": "9ee85a72-f54c-479b-bab1-a5a58a9b519f",
   "metadata": {},
   "outputs": [],
   "source": [
    "#Demonstrating Trimming Messages "
   ]
  },
  {
   "cell_type": "code",
   "execution_count": 16,
   "id": "62296fdf-6eb3-444e-9fa9-fdb57add5fa6",
   "metadata": {},
   "outputs": [
    {
     "data": {
      "image/png": "[encoded data removed]",
      "text/plain": [
       "<IPython.core.display.Image object>"
      ]
     },
     "metadata": {},
     "output_type": "display_data"
    },
    {
     "name": "stdout",
     "output_type": "stream",
     "text": [
      "Messages passed to model (6):\n",
      "  - ai: That’s awesome! How are you planning your daily sc\n",
      "  - human: I study Physics in the morning and Chemistry in th\n",
      "  - ai: Good plan! Make sure to keep revising regularly.\n",
      "  - human: I’m struggling a bit with Organic Chemistry. Any a\n",
      "  - ai: Focus on mechanisms first — they make memorization\n",
      "  - human: Got it! Should I solve NCERT first or jump to coac\n",
      "\n",
      "Model's reply:\n",
      "ai: Hey! Are you preparing for the Joint Entrance Exam (JEE)?\n",
      "human: Yes, I just started preparing for it.\n",
      "ai: That’s awesome! How are you planning your daily schedule?\n",
      "human: I study Physics in the morning and Chemistry in the evening.\n",
      "ai: Good plan! Make sure to keep revising regularly.\n",
      "human: I’m struggling a bit with Organic Chemistry. Any advice?\n",
      "ai: Focus on mechanisms first — they make memorization easier.\n",
      "human: Got it! Should I solve NCERT first or jump to coaching materials?\n",
      "ai: Start with NCERT to build a strong foundation. Once you're comfortable, you can gradually tackle coaching materials for more advanced practice.\n"
     ]
    }
   ],
   "source": [
    "from langchain_core.messages import AIMessage, HumanMessage, trim_messages\n",
    "from langchain_openai import ChatOpenAI\n",
    "from langgraph.graph import MessagesState, StateGraph, START, END\n",
    "from IPython.display import Image, display\n",
    "\n",
    "llm = ChatOpenAI(model=\"gpt-4o-mini\")\n",
    "token_counter = ChatOpenAI(model=\"gpt-4o\")\n",
    "\n",
    "def chat_model_node(state: MessagesState):\n",
    "    messages = trim_messages(\n",
    "        state[\"messages\"],\n",
    "        max_tokens=100,\n",
    "        strategy=\"last\",         \n",
    "        token_counter=token_counter,\n",
    "        allow_partial=False,      \n",
    "    )\n",
    "\n",
    "    print(f\"Messages passed to model ({len(messages)}):\")\n",
    "    for m in messages:\n",
    "        print(f\"  - {m.type}: {m.content[:50]}\")\n",
    "\n",
    "    response = llm.invoke(messages)\n",
    "    return {\"messages\": [response]}\n",
    "\n",
    "builder = StateGraph(MessagesState)\n",
    "builder.add_node(\"chat_model\", chat_model_node)\n",
    "builder.add_edge(START, \"chat_model\")\n",
    "builder.add_edge(\"chat_model\", END)\n",
    "graph = builder.compile()\n",
    "\n",
    "display(Image(graph.get_graph().draw_mermaid_png()))\n",
    "\n",
    "messages = [\n",
    "    AIMessage(\"Hey! Are you preparing for the Joint Entrance Exam (JEE)?\"),\n",
    "    HumanMessage(\"Yes, I just started preparing for it.\"),\n",
    "    AIMessage(\"That’s awesome! How are you planning your daily schedule?\"),\n",
    "    HumanMessage(\"I study Physics in the morning and Chemistry in the evening.\"),\n",
    "    AIMessage(\"Good plan! Make sure to keep revising regularly.\"),\n",
    "    HumanMessage(\"I’m struggling a bit with Organic Chemistry. Any advice?\"),\n",
    "    AIMessage(\"Focus on mechanisms first — they make memorization easier.\"),\n",
    "    HumanMessage(\"Got it! Should I solve NCERT first or jump to coaching materials?\"),\n",
    "]\n",
    "\n",
    "\n",
    "result = graph.invoke({\"messages\": messages})\n",
    "\n",
    "print(\"\\nModel's reply:\")\n",
    "for msg in result[\"messages\"]:\n",
    "    print(f\"{msg.type}: {msg.content}\")\n"
   ]
  },
  {
   "cell_type": "code",
   "execution_count": null,
   "id": "b9176535-ee74-4d79-9ce3-65576d130d71",
   "metadata": {},
   "outputs": [],
   "source": []
  }
 ],
 "metadata": {
  "kernelspec": {
   "display_name": "Python 3 (ipykernel)",
   "language": "python",
   "name": "python3"
  },
  "language_info": {
   "codemirror_mode": {
    "name": "ipython",
    "version": 3
   },
   "file_extension": ".py",
   "mimetype": "text/x-python",
   "name": "python",
   "nbconvert_exporter": "python",
   "pygments_lexer": "ipython3",
   "version": "3.9.1rc1"
  }
 },
 "nbformat": 4,
 "nbformat_minor": 5
}
